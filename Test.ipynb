{
 "cells": [
  {
   "cell_type": "code",
   "execution_count": 97,
   "metadata": {},
   "outputs": [],
   "source": [
    "import numpy as np\n",
    "import pylab as pl\n",
    "from scipy.interpolate import interp1d\n",
    "from scipy.integrate import ode\n",
    "from sys import argv, exit\n",
    "import argparse"
   ]
  },
  {
   "cell_type": "code",
   "execution_count": 159,
   "metadata": {},
   "outputs": [
    {
     "data": {
      "text/plain": [
       "_StoreAction(option_strings=['-W', '--wind'], dest='wind', nargs=None, const=None, default='Wind.csv', type=<class 'str'>, choices=None, help='имя файла с данными о поле ветров', metavar='WIND_FILENAME')"
      ]
     },
     "execution_count": 159,
     "metadata": {},
     "output_type": "execute_result"
    }
   ],
   "source": [
    "parser = argparse.ArgumentParser(\n",
    "    description='Решение задачи внешней баллистики с учетом влияния воздушных возмущений',\n",
    "    formatter_class=argparse.ArgumentDefaultsHelpFormatter\n",
    ")\n",
    "parser.add_argument('-m','--mass', type=float, default=100, help='масса груза')\n",
    "parser.add_argument('-H','--height', type=float, default=1000, help='высота сброса')\n",
    "parser.add_argument('-v','--velocity', type=float, default=250, help='начальная скорость')\n",
    "parser.add_argument('-F', type=str, default='F.csv', help='имя файла с данными об аэродинамической силе', metavar='F_FILENAME')\n",
    "parser.add_argument('-W', '--wind', type=str, default='Wind.csv', help='имя файла с данными о поле ветров', metavar='WIND_FILENAME')"
   ]
  },
  {
   "cell_type": "code",
   "execution_count": 161,
   "metadata": {},
   "outputs": [
    {
     "name": "stdout",
     "output_type": "stream",
     "text": [
      "\n"
     ]
    }
   ],
   "source": [
    "# TODO: при конвертации в .py заменить аргумент на sys.argv[1:]\n",
    "params = parser.parse_args(input().split())"
   ]
  },
  {
   "cell_type": "code",
   "execution_count": 164,
   "metadata": {},
   "outputs": [],
   "source": [
    "Fa_data = np.loadtxt(params.F, skiprows=1, delimiter=', ')\n",
    "Wind_data = np.loadtxt(params.wind, skiprows=1, delimiter=', ')"
   ]
  },
  {
   "cell_type": "code",
   "execution_count": 3,
   "metadata": {},
   "outputs": [],
   "source": [
    "# Гарантируем, что данные отсортированы по столбцу высоты\n",
    "Fa_data = Fa_data[Fa_data[:, 0].argsort()]\n",
    "Wind_data = Wind_data[Wind_data[:, 0].argsort()]"
   ]
  },
  {
   "cell_type": "code",
   "execution_count": 4,
   "metadata": {},
   "outputs": [],
   "source": [
    "# Дополняем данные нулевой силой ветра по координате Y\n",
    "if Wind_data.shape[1] == 3:\n",
    "    Wind_data = np.insert(Wind_data, 2, values=0, axis=1)"
   ]
  },
  {
   "cell_type": "code",
   "execution_count": 5,
   "metadata": {},
   "outputs": [],
   "source": [
    "# Оборачиваем данные в аппроксимирующую функцию, поддерживающую выход за границы данных\n",
    "def interpolate(x_points, y_points):\n",
    "    _interp = interp1d(x_points, y_points, axis=0)\n",
    "    def interp(x):\n",
    "        if x < x_points[0]:\n",
    "            return y_points[0]\n",
    "        elif x > x_points[-1]:\n",
    "            return y_points[-1]\n",
    "        return _interp(x)\n",
    "    if y_points.ndim == 1:\n",
    "        return np.vectorize(interp)\n",
    "    elif y_points.ndim == 2:\n",
    "        return np.vectorize(interp, signature='()->(n)')\n",
    "\n",
    "Fa = interpolate(Fa_data[:, 0], Fa_data[:, 1])\n",
    "Wind = interpolate(Wind_data[:,0], Wind_data[:, 1:])"
   ]
  },
  {
   "cell_type": "code",
   "execution_count": 7,
   "metadata": {},
   "outputs": [],
   "source": [
    "def diff(time, state):\n",
    "    v = state[3:]\n",
    "    v_norm = np.linalg.norm(v)\n",
    "    Fa_vec = v / v_norm * Fa(v_norm) if v_norm > 1e-12 else v\n",
    "    wind = Wind(state[1])\n",
    "    derivative = np.array([\n",
    "        state[3],\n",
    "        state[4],\n",
    "        state[5],\n",
    "        wind[0] / m - Fa_vec[0] / m,\n",
    "        wind[1] / m - Fa_vec[1] / m - g,\n",
    "        wind[2] / m - Fa_vec[2] / m,\n",
    "    ])\n",
    "    return derivative"
   ]
  },
  {
   "cell_type": "code",
   "execution_count": 9,
   "metadata": {},
   "outputs": [],
   "source": [
    "def simulate(initial, dt, break_condition):\n",
    "    system = ode(diff)\n",
    "    system.set_initial_value(initial, 0)\n",
    "    coords = [initial]\n",
    "    while not break_condition(system.t, system.y):\n",
    "        state = system.integrate(system.t + dt)\n",
    "        coords.append(state)\n",
    "    return np.array(coords)"
   ]
  },
  {
   "cell_type": "code",
   "execution_count": 127,
   "metadata": {},
   "outputs": [],
   "source": [
    "# Всегда берется одинаковым образом\n",
    "X, Z = 0, 0\n",
    "g = 9.81\n",
    "\n",
    "# задается пользователем.\n",
    "H0 = params.height\n",
    "v0 = params.velocity\n",
    "m = params.mass\n",
    "\n",
    "# может быть задано произвольно\n",
    "# Поэтому выбираем такой угол, чтобы средний ветер дул по направлению к цели\n",
    "alpha = np.arctan2(*Wind_data[:, [1,3]].mean(axis=0))\n",
    "\n",
    "initial1 = [X, H0, Z, v0 * np.cos(alpha), 0, v0 * np.sin(alpha)]"
   ]
  },
  {
   "cell_type": "code",
   "execution_count": 89,
   "metadata": {},
   "outputs": [],
   "source": [
    "# Берем некие начальные значения и интегрируем систему\n",
    "# Финальные координаты X,Z взять с минусом как начальные условия\n",
    "# В силу отсутствия зависимости от x,z должен получится эквивалентный сдвиг траектории\n",
    "\n",
    "dt = 0.01\n",
    "sim1 = simulate(initial1, dt, lambda t, state: state[1] <= 0.0)"
   ]
  },
  {
   "cell_type": "code",
   "execution_count": 90,
   "metadata": {},
   "outputs": [],
   "source": [
    "# Линейной интерполяцией уточняем необходимые значения в момент Y==0\n",
    "time = dt * (len(sim1)-1) + np.interp(0, sim1[:-3:-1, 1], [dt, 0.0])\n",
    "X = -np.interp(0, sim1[:-3:-1, 1], sim1[:-3:-1, 0])\n",
    "Z = -np.interp(0, sim1[:-3:-1, 1], sim1[:-3:-1, 2])"
   ]
  },
  {
   "cell_type": "code",
   "execution_count": 91,
   "metadata": {},
   "outputs": [],
   "source": [
    "# AGREEMENT\n",
    "# Проводим финальную симуляцию с найденной начальной точкой\n",
    "# и уточненными границами по времени\n",
    "initial2 = [X, H0, Z, v0 * np.cos(alpha), 0, v0 * np.sin(alpha)]\n",
    "dt = time / len(sim1)\n",
    "sim2 = simulate(initial2, dt, lambda t, s: t >= time-dt)"
   ]
  },
  {
   "cell_type": "code",
   "execution_count": 165,
   "metadata": {},
   "outputs": [],
   "source": [
    "np.savetxt(\n",
    "    'Ballistic.csv',\n",
    "    np.c_[np.arange(0, dt*len(sim2), dt), sim2],\n",
    "    fmt='%.6f',\n",
    "    header='time,X,Y,Z,Vx,Vy,Vz',\n",
    "    delimiter=',',\n",
    "    comments=''\n",
    ")"
   ]
  }
 ],
 "metadata": {
  "kernelspec": {
   "display_name": "Python 3",
   "language": "python",
   "name": "python3"
  },
  "language_info": {
   "codemirror_mode": {
    "name": "ipython",
    "version": 3
   },
   "file_extension": ".py",
   "mimetype": "text/x-python",
   "name": "python",
   "nbconvert_exporter": "python",
   "pygments_lexer": "ipython3",
   "version": "3.6.7"
  }
 },
 "nbformat": 4,
 "nbformat_minor": 2
}
